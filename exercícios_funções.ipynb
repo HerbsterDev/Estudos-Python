{
  "nbformat": 4,
  "nbformat_minor": 0,
  "metadata": {
    "colab": {
      "provenance": [],
      "authorship_tag": "ABX9TyMIofvEu9Fw5Y8Jz5A8QmpQ",
      "include_colab_link": true
    },
    "kernelspec": {
      "name": "python3",
      "display_name": "Python 3"
    },
    "language_info": {
      "name": "python"
    }
  },
  "cells": [
    {
      "cell_type": "markdown",
      "metadata": {
        "id": "view-in-github",
        "colab_type": "text"
      },
      "source": [
        "<a href=\"https://colab.research.google.com/github/HerbsterDev/Estudos-Python/blob/main/exerc%C3%ADcios_fun%C3%A7%C3%B5es.ipynb\" target=\"_parent\"><img src=\"https://colab.research.google.com/assets/colab-badge.svg\" alt=\"Open In Colab\"/></a>"
      ]
    },
    {
      "cell_type": "markdown",
      "source": [
        "Exercício 1 - Saudação"
      ],
      "metadata": {
        "id": "afK_kXpCmoeS"
      }
    },
    {
      "cell_type": "code",
      "source": [
        "def saudacao(nome:str):\n",
        "  print(f'Olá,{nome}')\n",
        "\n",
        "saudacao('Arthur')"
      ],
      "metadata": {
        "colab": {
          "base_uri": "https://localhost:8080/"
        },
        "id": "bIZtB5FYmssn",
        "outputId": "fe647b8c-465c-4f7e-f1ce-f11af7ee6934"
      },
      "execution_count": 2,
      "outputs": [
        {
          "output_type": "stream",
          "name": "stdout",
          "text": [
            "Olá,Arthur\n"
          ]
        }
      ]
    },
    {
      "cell_type": "markdown",
      "source": [
        "Questão 2 - Verificação de Número Par e Ìmpares\n"
      ],
      "metadata": {
        "id": "5l9vxIsVnNul"
      }
    },
    {
      "cell_type": "code",
      "source": [
        "def numero_par(número:int):\n",
        "  if número % 2 == 0:\n",
        "    print('Número Par')\n",
        "  elif número == 0:\n",
        "    print('Número Igual a Zero')\n",
        "  else:\n",
        "    print('Número Ìmpar')\n",
        "\n",
        "numero_par(4)\n"
      ],
      "metadata": {
        "colab": {
          "base_uri": "https://localhost:8080/"
        },
        "id": "ZNenu3gKnQkQ",
        "outputId": "42494924-8eff-4129-af9f-ee87bb26ba24"
      },
      "execution_count": 3,
      "outputs": [
        {
          "output_type": "stream",
          "name": "stdout",
          "text": [
            "Número Par\n"
          ]
        }
      ]
    }
  ]
}