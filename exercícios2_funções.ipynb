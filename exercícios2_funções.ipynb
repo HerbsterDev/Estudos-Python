{
  "nbformat": 4,
  "nbformat_minor": 0,
  "metadata": {
    "colab": {
      "provenance": [],
      "authorship_tag": "ABX9TyNh0LmkziwbpTtk5l2h/nGV",
      "include_colab_link": true
    },
    "kernelspec": {
      "name": "python3",
      "display_name": "Python 3"
    },
    "language_info": {
      "name": "python"
    }
  },
  "cells": [
    {
      "cell_type": "markdown",
      "metadata": {
        "id": "view-in-github",
        "colab_type": "text"
      },
      "source": [
        "<a href=\"https://colab.research.google.com/github/HerbsterDev/Estudos-Python/blob/main/exerc%C3%ADcios2_fun%C3%A7%C3%B5es.ipynb\" target=\"_parent\"><img src=\"https://colab.research.google.com/assets/colab-badge.svg\" alt=\"Open In Colab\"/></a>"
      ]
    },
    {
      "cell_type": "markdown",
      "source": [
        "Questão 1 - Parâmetros com valor padrão"
      ],
      "metadata": {
        "id": "7zgPK4_nq8Gb"
      }
    },
    {
      "cell_type": "code",
      "source": [
        "def contagem(inicio, fim=10):\n",
        "    return list(range(inicio, fim + 1))\n",
        "print(contagem(0,12))"
      ],
      "metadata": {
        "colab": {
          "base_uri": "https://localhost:8080/"
        },
        "id": "GQh2PUEDrGA0",
        "outputId": "81ce9ff5-2280-4103-ee6d-97b943a0ac91"
      },
      "execution_count": null,
      "outputs": [
        {
          "output_type": "stream",
          "name": "stdout",
          "text": [
            "[0, 1, 2, 3, 4, 5, 6, 7, 8, 9, 10, 11, 12]\n"
          ]
        }
      ]
    },
    {
      "cell_type": "markdown",
      "source": [
        "Questão 2 - Subtração"
      ],
      "metadata": {
        "id": "527qHq-LsrmN"
      }
    },
    {
      "cell_type": "code",
      "source": [
        "def subtrair(a : float, b : float):\n",
        "     resultado = a - b\n",
        "     return resultado\n",
        "subtrair(10, 5)"
      ],
      "metadata": {
        "colab": {
          "base_uri": "https://localhost:8080/"
        },
        "id": "-f8tTcWfsuAW",
        "outputId": "aa9c34a7-41cd-4c03-eae0-ffc3f9295757"
      },
      "execution_count": 16,
      "outputs": [
        {
          "output_type": "execute_result",
          "data": {
            "text/plain": [
              "5"
            ]
          },
          "metadata": {},
          "execution_count": 16
        }
      ]
    }
  ]
}